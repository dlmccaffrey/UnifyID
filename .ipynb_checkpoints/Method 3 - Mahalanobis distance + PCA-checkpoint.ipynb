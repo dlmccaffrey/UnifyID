{
 "cells": [
  {
   "cell_type": "markdown",
   "metadata": {},
   "source": [
    "# Mahalanobis distance\n",
    "The following algorithm is based loosely on Tax DMJ, Müller K-R. <a href=\"http://dl.acm.org/citation.cfm?id=1767174\">Feature Extraction for One-Class Classification</a>. Artificial Neural Networks and Neural Information Processing. Springer-Verlag Berlin Heidelberg; 2003. pp. 342–349. \n",
    "\n",
    "This paper uses a method very similar to the centroid method used in ```Method 1 - Centroid Based Algorithm.ipynb```. Instead of Euclidean distance, it uses the Mahalanobis distance, $d_S$:\n",
    "$$ d_S^2 = (\\mathbf{x} - \\mathbf{\\bar{x}})^TS^{-1}_n(\\mathbf{x} - \\mathbf{\\bar{x}}) $$\n",
    "where $\\mathbf{x}$ is the input data, $\\mathbf{\\bar{x}}$ is the mean of the input data, and $S^{-1}_n$ is the estimator for the covariance matrix:\n",
    "$$ S^{-1}_n = \\frac{1}{n-1}(\\mathbf{x} - \\mathbf{\\bar{x}})(\\mathbf{x} - \\mathbf{\\bar{x}})^T $$\n",
    "\n",
    "Tax and Müller computed the threshold $d_S^2$ with the following equation:\n",
    "$$ \\frac{(n-1)^2}{n} \\int_0^{d_S^2} Beta\\Big(g;\\frac{p}{2}, \\frac{n-p-1}{2}\\Big)dg = f $$\n",
    "where $n$ is the number of observations, $p$ is the number of features, $Beta()$ is the beta distribution pdf, and $f$ is the fraction of data that is to be classified as normal. I will use this value as a starting point and validate for several $d_S^2$ values.\n",
    "\n",
    "The authors went further and tested how removing the high variance and low variance PCA components affected the model. Since my data has already been transformed, this would be trivial for me.\n",
    "\n",
    "See ```Data Exploration and Setup.ipynb``` for more information on the data set used and how it was split."
   ]
  },
  {
   "cell_type": "markdown",
   "metadata": {},
   "source": [
    "## Initial Training With All PCA Features"
   ]
  },
  {
   "cell_type": "code",
   "execution_count": 1,
   "metadata": {
    "collapsed": true
   },
   "outputs": [],
   "source": [
    "%matplotlib inline"
   ]
  },
  {
   "cell_type": "code",
   "execution_count": 71,
   "metadata": {
    "collapsed": true
   },
   "outputs": [],
   "source": [
    "import pandas as pd\n",
    "import numpy as np\n",
    "from sklearn.metrics import roc_auc_score\n",
    "from sklearn.metrics import recall_score\n",
    "import matplotlib.pyplot as plt\n",
    "from scipy.stats import beta\n",
    "from numpy.linalg import inv"
   ]
  },
  {
   "cell_type": "code",
   "execution_count": 3,
   "metadata": {
    "collapsed": true
   },
   "outputs": [],
   "source": [
    "#load training data\n",
    "X_train = pd.read_csv('X_train.csv')"
   ]
  },
  {
   "cell_type": "code",
   "execution_count": 4,
   "metadata": {
    "collapsed": false,
    "scrolled": true
   },
   "outputs": [
    {
     "data": {
      "text/plain": [
       "(142403, 30)"
      ]
     },
     "execution_count": 4,
     "metadata": {},
     "output_type": "execute_result"
    }
   ],
   "source": [
    "X_train.shape #should be (142403, 30)"
   ]
  },
  {
   "cell_type": "markdown",
   "metadata": {},
   "source": [
    "Since I can't determine unique credit cards, I'm going to drop the 'Time' feature. I'm also going to mean normalize the data. This should make calculations a bit simpler. I'm going to keep the 'Amount' feature briefly to create a point of comparison to the other methods I've already tested."
   ]
  },
  {
   "cell_type": "code",
   "execution_count": 5,
   "metadata": {
    "collapsed": false,
    "scrolled": true
   },
   "outputs": [
    {
     "data": {
      "text/html": [
       "<div>\n",
       "<table border=\"1\" class=\"dataframe\">\n",
       "  <thead>\n",
       "    <tr style=\"text-align: right;\">\n",
       "      <th></th>\n",
       "      <th>V1</th>\n",
       "      <th>V2</th>\n",
       "      <th>V3</th>\n",
       "      <th>V4</th>\n",
       "      <th>V5</th>\n",
       "      <th>V6</th>\n",
       "      <th>V7</th>\n",
       "      <th>V8</th>\n",
       "      <th>V9</th>\n",
       "      <th>V10</th>\n",
       "      <th>...</th>\n",
       "      <th>V20</th>\n",
       "      <th>V21</th>\n",
       "      <th>V22</th>\n",
       "      <th>V23</th>\n",
       "      <th>V24</th>\n",
       "      <th>V25</th>\n",
       "      <th>V26</th>\n",
       "      <th>V27</th>\n",
       "      <th>V28</th>\n",
       "      <th>Amount</th>\n",
       "    </tr>\n",
       "  </thead>\n",
       "  <tbody>\n",
       "    <tr>\n",
       "      <th>0</th>\n",
       "      <td>-1.309615</td>\n",
       "      <td>0.118858</td>\n",
       "      <td>2.890224</td>\n",
       "      <td>3.259563</td>\n",
       "      <td>-0.975216</td>\n",
       "      <td>2.053227</td>\n",
       "      <td>-1.225558</td>\n",
       "      <td>1.224267</td>\n",
       "      <td>-0.036384</td>\n",
       "      <td>0.050075</td>\n",
       "      <td>...</td>\n",
       "      <td>0.301116</td>\n",
       "      <td>0.240538</td>\n",
       "      <td>0.707201</td>\n",
       "      <td>-0.251083</td>\n",
       "      <td>-0.450744</td>\n",
       "      <td>0.272565</td>\n",
       "      <td>0.567029</td>\n",
       "      <td>0.027397</td>\n",
       "      <td>-0.040843</td>\n",
       "      <td>82.24</td>\n",
       "    </tr>\n",
       "    <tr>\n",
       "      <th>1</th>\n",
       "      <td>-1.507604</td>\n",
       "      <td>-0.445468</td>\n",
       "      <td>0.383992</td>\n",
       "      <td>1.756901</td>\n",
       "      <td>-1.186740</td>\n",
       "      <td>0.489871</td>\n",
       "      <td>1.460411</td>\n",
       "      <td>0.438009</td>\n",
       "      <td>-0.487785</td>\n",
       "      <td>-0.816031</td>\n",
       "      <td>...</td>\n",
       "      <td>0.816683</td>\n",
       "      <td>0.340005</td>\n",
       "      <td>0.171648</td>\n",
       "      <td>0.960273</td>\n",
       "      <td>0.016460</td>\n",
       "      <td>-0.199284</td>\n",
       "      <td>-0.286972</td>\n",
       "      <td>-0.063034</td>\n",
       "      <td>0.074770</td>\n",
       "      <td>435.00</td>\n",
       "    </tr>\n",
       "    <tr>\n",
       "      <th>2</th>\n",
       "      <td>-3.579097</td>\n",
       "      <td>-3.780828</td>\n",
       "      <td>0.915284</td>\n",
       "      <td>0.811619</td>\n",
       "      <td>1.384262</td>\n",
       "      <td>-1.373492</td>\n",
       "      <td>-1.609020</td>\n",
       "      <td>0.818499</td>\n",
       "      <td>-1.445239</td>\n",
       "      <td>0.202760</td>\n",
       "      <td>...</td>\n",
       "      <td>0.866831</td>\n",
       "      <td>0.086957</td>\n",
       "      <td>-1.077871</td>\n",
       "      <td>0.391329</td>\n",
       "      <td>-0.448916</td>\n",
       "      <td>-0.352105</td>\n",
       "      <td>-0.870777</td>\n",
       "      <td>0.077323</td>\n",
       "      <td>-0.479606</td>\n",
       "      <td>189.00</td>\n",
       "    </tr>\n",
       "    <tr>\n",
       "      <th>3</th>\n",
       "      <td>-0.198195</td>\n",
       "      <td>-0.493945</td>\n",
       "      <td>1.132765</td>\n",
       "      <td>-0.409765</td>\n",
       "      <td>-0.872015</td>\n",
       "      <td>0.871469</td>\n",
       "      <td>0.279736</td>\n",
       "      <td>0.418671</td>\n",
       "      <td>0.962524</td>\n",
       "      <td>-0.824186</td>\n",
       "      <td>...</td>\n",
       "      <td>0.186004</td>\n",
       "      <td>-0.001488</td>\n",
       "      <td>-0.152296</td>\n",
       "      <td>0.564498</td>\n",
       "      <td>0.738859</td>\n",
       "      <td>-0.708118</td>\n",
       "      <td>0.285887</td>\n",
       "      <td>-0.040291</td>\n",
       "      <td>0.018017</td>\n",
       "      <td>187.10</td>\n",
       "    </tr>\n",
       "    <tr>\n",
       "      <th>4</th>\n",
       "      <td>-0.702706</td>\n",
       "      <td>1.432597</td>\n",
       "      <td>0.997674</td>\n",
       "      <td>0.906160</td>\n",
       "      <td>-0.158996</td>\n",
       "      <td>-0.563226</td>\n",
       "      <td>0.375988</td>\n",
       "      <td>0.414078</td>\n",
       "      <td>-0.757303</td>\n",
       "      <td>-0.289653</td>\n",
       "      <td>...</td>\n",
       "      <td>-0.018858</td>\n",
       "      <td>0.198920</td>\n",
       "      <td>0.667377</td>\n",
       "      <td>-0.051745</td>\n",
       "      <td>0.418866</td>\n",
       "      <td>-0.283271</td>\n",
       "      <td>-0.305879</td>\n",
       "      <td>0.312144</td>\n",
       "      <td>0.162622</td>\n",
       "      <td>2.18</td>\n",
       "    </tr>\n",
       "  </tbody>\n",
       "</table>\n",
       "<p>5 rows × 29 columns</p>\n",
       "</div>"
      ],
      "text/plain": [
       "         V1        V2        V3        V4        V5        V6        V7  \\\n",
       "0 -1.309615  0.118858  2.890224  3.259563 -0.975216  2.053227 -1.225558   \n",
       "1 -1.507604 -0.445468  0.383992  1.756901 -1.186740  0.489871  1.460411   \n",
       "2 -3.579097 -3.780828  0.915284  0.811619  1.384262 -1.373492 -1.609020   \n",
       "3 -0.198195 -0.493945  1.132765 -0.409765 -0.872015  0.871469  0.279736   \n",
       "4 -0.702706  1.432597  0.997674  0.906160 -0.158996 -0.563226  0.375988   \n",
       "\n",
       "         V8        V9       V10   ...         V20       V21       V22  \\\n",
       "0  1.224267 -0.036384  0.050075   ...    0.301116  0.240538  0.707201   \n",
       "1  0.438009 -0.487785 -0.816031   ...    0.816683  0.340005  0.171648   \n",
       "2  0.818499 -1.445239  0.202760   ...    0.866831  0.086957 -1.077871   \n",
       "3  0.418671  0.962524 -0.824186   ...    0.186004 -0.001488 -0.152296   \n",
       "4  0.414078 -0.757303 -0.289653   ...   -0.018858  0.198920  0.667377   \n",
       "\n",
       "        V23       V24       V25       V26       V27       V28  Amount  \n",
       "0 -0.251083 -0.450744  0.272565  0.567029  0.027397 -0.040843   82.24  \n",
       "1  0.960273  0.016460 -0.199284 -0.286972 -0.063034  0.074770  435.00  \n",
       "2  0.391329 -0.448916 -0.352105 -0.870777  0.077323 -0.479606  189.00  \n",
       "3  0.564498  0.738859 -0.708118  0.285887 -0.040291  0.018017  187.10  \n",
       "4 -0.051745  0.418866 -0.283271 -0.305879  0.312144  0.162622    2.18  \n",
       "\n",
       "[5 rows x 29 columns]"
      ]
     },
     "execution_count": 5,
     "metadata": {},
     "output_type": "execute_result"
    }
   ],
   "source": [
    "X_train = X_train.drop('Time', 1)\n",
    "X_train.head()"
   ]
  },
  {
   "cell_type": "code",
   "execution_count": 6,
   "metadata": {
    "collapsed": false
   },
   "outputs": [
    {
     "data": {
      "text/plain": [
       "(142403, 29)"
      ]
     },
     "execution_count": 6,
     "metadata": {},
     "output_type": "execute_result"
    }
   ],
   "source": [
    "X_train.shape"
   ]
  },
  {
   "cell_type": "code",
   "execution_count": 7,
   "metadata": {
    "collapsed": true
   },
   "outputs": [],
   "source": [
    "X_train = (X_train - X_train.mean()) / (X_train.std())"
   ]
  },
  {
   "cell_type": "code",
   "execution_count": 8,
   "metadata": {
    "collapsed": true
   },
   "outputs": [],
   "source": [
    "p = X_train.shape[1] #number of features\n",
    "n = X_train.shape[0] #number of observations"
   ]
  },
  {
   "cell_type": "code",
   "execution_count": 9,
   "metadata": {
    "collapsed": true
   },
   "outputs": [],
   "source": [
    "#find some thetas to test by choosing several f's\n",
    "f=np.array([0.9, 0.95, 0.99, 0.999])"
   ]
  },
  {
   "cell_type": "code",
   "execution_count": 10,
   "metadata": {
    "collapsed": true
   },
   "outputs": [],
   "source": [
    "#shape parameters for beta distribution\n",
    "a = p / 2\n",
    "b = (n - p - 1) / 2"
   ]
  },
  {
   "cell_type": "code",
   "execution_count": 11,
   "metadata": {
    "collapsed": true
   },
   "outputs": [],
   "source": [
    "# using scipy for the beta distribution\n",
    "q = f * n / (n - 1)**2 + beta.cdf(0, a, b)"
   ]
  },
  {
   "cell_type": "code",
   "execution_count": 43,
   "metadata": {
    "collapsed": false
   },
   "outputs": [],
   "source": [
    "# ppf gives the value of x where F(x)=q\n",
    "thetas = beta.ppf(q, a, b)"
   ]
  },
  {
   "cell_type": "code",
   "execution_count": 44,
   "metadata": {
    "collapsed": false
   },
   "outputs": [
    {
     "data": {
      "text/plain": [
       "array([  4.76607070e-05,   4.78879035e-05,   4.80621370e-05,\n",
       "         4.81004764e-05])"
      ]
     },
     "execution_count": 44,
     "metadata": {},
     "output_type": "execute_result"
    }
   ],
   "source": [
    "thetas"
   ]
  },
  {
   "cell_type": "code",
   "execution_count": 14,
   "metadata": {
    "collapsed": false
   },
   "outputs": [],
   "source": [
    "Sn = 1 / (n - 1) * np.dot(X_train.T, X_train) #mean is zero"
   ]
  },
  {
   "cell_type": "code",
   "execution_count": 15,
   "metadata": {
    "collapsed": false,
    "scrolled": false
   },
   "outputs": [
    {
     "data": {
      "text/plain": [
       "(29, 29)"
      ]
     },
     "execution_count": 15,
     "metadata": {},
     "output_type": "execute_result"
    }
   ],
   "source": [
    "Sn.shape # should be (29,29)"
   ]
  },
  {
   "cell_type": "code",
   "execution_count": 16,
   "metadata": {
    "collapsed": true
   },
   "outputs": [],
   "source": [
    "Sn_inv = inv(Sn)"
   ]
  },
  {
   "cell_type": "code",
   "execution_count": 17,
   "metadata": {
    "collapsed": true
   },
   "outputs": [],
   "source": [
    "# load validation data\n",
    "X_val = pd.read_csv('X_val.csv')"
   ]
  },
  {
   "cell_type": "code",
   "execution_count": 18,
   "metadata": {
    "collapsed": false
   },
   "outputs": [
    {
     "data": {
      "text/plain": [
       "(56961, 30)"
      ]
     },
     "execution_count": 18,
     "metadata": {},
     "output_type": "execute_result"
    }
   ],
   "source": [
    "X_val.shape #should be (56961, 30)"
   ]
  },
  {
   "cell_type": "code",
   "execution_count": 19,
   "metadata": {
    "collapsed": true
   },
   "outputs": [],
   "source": [
    "#drop 'Time' and mean normalize\n",
    "X_val = X_val.drop('Time', 1)\n",
    "X_val = (X_val - X_val.mean()) / (X_val.std())"
   ]
  },
  {
   "cell_type": "code",
   "execution_count": 20,
   "metadata": {
    "collapsed": false
   },
   "outputs": [
    {
     "data": {
      "text/plain": [
       "(56961, 29)"
      ]
     },
     "execution_count": 20,
     "metadata": {},
     "output_type": "execute_result"
    }
   ],
   "source": [
    "X_val.shape # should be (56961, 29)"
   ]
  },
  {
   "cell_type": "code",
   "execution_count": 35,
   "metadata": {
    "collapsed": false
   },
   "outputs": [],
   "source": [
    "val_distances = []"
   ]
  },
  {
   "cell_type": "code",
   "execution_count": 36,
   "metadata": {
    "collapsed": false
   },
   "outputs": [],
   "source": [
    "for row in X_val.values:\n",
    "    distance = np.dot(np.dot(row, Sn_inv), row.T)\n",
    "    val_distances.append(distance)"
   ]
  },
  {
   "cell_type": "code",
   "execution_count": 37,
   "metadata": {
    "collapsed": true
   },
   "outputs": [],
   "source": [
    "val_distances = np.array(val_distances)"
   ]
  },
  {
   "cell_type": "code",
   "execution_count": 38,
   "metadata": {
    "collapsed": false
   },
   "outputs": [
    {
     "data": {
      "text/plain": [
       "(56961,)"
      ]
     },
     "execution_count": 38,
     "metadata": {},
     "output_type": "execute_result"
    }
   ],
   "source": [
    "val_distances.shape #should be (56961)"
   ]
  },
  {
   "cell_type": "code",
   "execution_count": 40,
   "metadata": {
    "collapsed": true
   },
   "outputs": [],
   "source": [
    "y_val = pd.read_csv('y_val.csv', header=None)"
   ]
  },
  {
   "cell_type": "code",
   "execution_count": 41,
   "metadata": {
    "collapsed": false
   },
   "outputs": [
    {
     "data": {
      "text/plain": [
       "(56961, 1)"
      ]
     },
     "execution_count": 41,
     "metadata": {},
     "output_type": "execute_result"
    }
   ],
   "source": [
    "y_val.shape #should be (56961, 1)"
   ]
  },
  {
   "cell_type": "markdown",
   "metadata": {},
   "source": [
    "I'll use the ```roc_auc_score()``` function from scikit learn to calculate the area under the curve."
   ]
  },
  {
   "cell_type": "code",
   "execution_count": 45,
   "metadata": {
    "collapsed": false,
    "scrolled": true
   },
   "outputs": [
    {
     "data": {
      "text/html": [
       "<div>\n",
       "<table border=\"1\" class=\"dataframe\">\n",
       "  <thead>\n",
       "    <tr style=\"text-align: right;\">\n",
       "      <th></th>\n",
       "      <th>AUC</th>\n",
       "      <th>theta</th>\n",
       "    </tr>\n",
       "  </thead>\n",
       "  <tbody>\n",
       "    <tr>\n",
       "      <th>0</th>\n",
       "      <td>0.5</td>\n",
       "      <td>0.000048</td>\n",
       "    </tr>\n",
       "    <tr>\n",
       "      <th>1</th>\n",
       "      <td>0.5</td>\n",
       "      <td>0.000048</td>\n",
       "    </tr>\n",
       "    <tr>\n",
       "      <th>2</th>\n",
       "      <td>0.5</td>\n",
       "      <td>0.000048</td>\n",
       "    </tr>\n",
       "    <tr>\n",
       "      <th>3</th>\n",
       "      <td>0.5</td>\n",
       "      <td>0.000048</td>\n",
       "    </tr>\n",
       "  </tbody>\n",
       "</table>\n",
       "</div>"
      ],
      "text/plain": [
       "   AUC     theta\n",
       "0  0.5  0.000048\n",
       "1  0.5  0.000048\n",
       "2  0.5  0.000048\n",
       "3  0.5  0.000048"
      ]
     },
     "execution_count": 45,
     "metadata": {},
     "output_type": "execute_result"
    }
   ],
   "source": [
    "auc = pd.DataFrame({'theta': [], 'AUC': []})\n",
    "\n",
    "for theta in thetas:\n",
    "    row = {}\n",
    "    row['theta'] = theta\n",
    "    \n",
    "    y_predicted = np.zeros_like(y_val)\n",
    "    y_predicted[np.where(val_distances > theta)] = 1\n",
    "    row['AUC'] = roc_auc_score(y_val, y_predicted)\n",
    "    \n",
    "    auc = auc.append(row, ignore_index=True)\n",
    "auc"
   ]
  },
  {
   "cell_type": "markdown",
   "metadata": {},
   "source": [
    "Okay, looks like the beta distribution didn't work for theta."
   ]
  },
  {
   "cell_type": "code",
   "execution_count": 46,
   "metadata": {
    "collapsed": true
   },
   "outputs": [],
   "source": [
    "thetas = [0.01, 0.1, 1, 10, 100]"
   ]
  },
  {
   "cell_type": "code",
   "execution_count": 47,
   "metadata": {
    "collapsed": false,
    "scrolled": false
   },
   "outputs": [
    {
     "data": {
      "text/html": [
       "<div>\n",
       "<table border=\"1\" class=\"dataframe\">\n",
       "  <thead>\n",
       "    <tr style=\"text-align: right;\">\n",
       "      <th></th>\n",
       "      <th>AUC</th>\n",
       "      <th>theta</th>\n",
       "    </tr>\n",
       "  </thead>\n",
       "  <tbody>\n",
       "    <tr>\n",
       "      <th>0</th>\n",
       "      <td>0.500000</td>\n",
       "      <td>0.01</td>\n",
       "    </tr>\n",
       "    <tr>\n",
       "      <th>1</th>\n",
       "      <td>0.500000</td>\n",
       "      <td>0.10</td>\n",
       "    </tr>\n",
       "    <tr>\n",
       "      <th>2</th>\n",
       "      <td>0.500000</td>\n",
       "      <td>1.00</td>\n",
       "    </tr>\n",
       "    <tr>\n",
       "      <th>3</th>\n",
       "      <td>0.598782</td>\n",
       "      <td>10.00</td>\n",
       "    </tr>\n",
       "    <tr>\n",
       "      <th>4</th>\n",
       "      <td>0.914957</td>\n",
       "      <td>100.00</td>\n",
       "    </tr>\n",
       "  </tbody>\n",
       "</table>\n",
       "</div>"
      ],
      "text/plain": [
       "        AUC   theta\n",
       "0  0.500000    0.01\n",
       "1  0.500000    0.10\n",
       "2  0.500000    1.00\n",
       "3  0.598782   10.00\n",
       "4  0.914957  100.00"
      ]
     },
     "execution_count": 47,
     "metadata": {},
     "output_type": "execute_result"
    }
   ],
   "source": [
    "auc = pd.DataFrame({'theta': [], 'AUC': []})\n",
    "\n",
    "for theta in thetas:\n",
    "    row = {}\n",
    "    row['theta'] = theta\n",
    "    \n",
    "    y_predicted = np.zeros_like(y_val)\n",
    "    y_predicted[np.where(val_distances > theta)] = 1\n",
    "    row['AUC'] = roc_auc_score(y_val, y_predicted)\n",
    "    \n",
    "    auc = auc.append(row, ignore_index=True)\n",
    "auc"
   ]
  },
  {
   "cell_type": "code",
   "execution_count": 48,
   "metadata": {
    "collapsed": true
   },
   "outputs": [],
   "source": [
    "thetas = [80, 90, 100, 110, 120]"
   ]
  },
  {
   "cell_type": "code",
   "execution_count": 49,
   "metadata": {
    "collapsed": false,
    "scrolled": true
   },
   "outputs": [
    {
     "data": {
      "text/html": [
       "<div>\n",
       "<table border=\"1\" class=\"dataframe\">\n",
       "  <thead>\n",
       "    <tr style=\"text-align: right;\">\n",
       "      <th></th>\n",
       "      <th>AUC</th>\n",
       "      <th>theta</th>\n",
       "    </tr>\n",
       "  </thead>\n",
       "  <tbody>\n",
       "    <tr>\n",
       "      <th>0</th>\n",
       "      <td>0.911989</td>\n",
       "      <td>80.0</td>\n",
       "    </tr>\n",
       "    <tr>\n",
       "      <th>1</th>\n",
       "      <td>0.913689</td>\n",
       "      <td>90.0</td>\n",
       "    </tr>\n",
       "    <tr>\n",
       "      <th>2</th>\n",
       "      <td>0.914957</td>\n",
       "      <td>100.0</td>\n",
       "    </tr>\n",
       "    <tr>\n",
       "      <th>3</th>\n",
       "      <td>0.913498</td>\n",
       "      <td>110.0</td>\n",
       "    </tr>\n",
       "    <tr>\n",
       "      <th>4</th>\n",
       "      <td>0.914415</td>\n",
       "      <td>120.0</td>\n",
       "    </tr>\n",
       "  </tbody>\n",
       "</table>\n",
       "</div>"
      ],
      "text/plain": [
       "        AUC  theta\n",
       "0  0.911989   80.0\n",
       "1  0.913689   90.0\n",
       "2  0.914957  100.0\n",
       "3  0.913498  110.0\n",
       "4  0.914415  120.0"
      ]
     },
     "execution_count": 49,
     "metadata": {},
     "output_type": "execute_result"
    }
   ],
   "source": [
    "auc = pd.DataFrame({'theta': [], 'AUC': []})\n",
    "\n",
    "for theta in thetas:\n",
    "    row = {}\n",
    "    row['theta'] = theta\n",
    "    \n",
    "    y_predicted = np.zeros_like(y_val)\n",
    "    y_predicted[np.where(val_distances > theta)] = 1\n",
    "    row['AUC'] = roc_auc_score(y_val, y_predicted)\n",
    "    \n",
    "    auc = auc.append(row, ignore_index=True)\n",
    "auc"
   ]
  },
  {
   "cell_type": "code",
   "execution_count": 50,
   "metadata": {
    "collapsed": false
   },
   "outputs": [
    {
     "data": {
      "text/plain": [
       "AUC        0.914957\n",
       "theta    100.000000\n",
       "Name: 2, dtype: float64"
      ]
     },
     "execution_count": 50,
     "metadata": {},
     "output_type": "execute_result"
    }
   ],
   "source": [
    "auc.loc[auc['AUC'].idxmax()]"
   ]
  },
  {
   "cell_type": "markdown",
   "metadata": {},
   "source": [
    "Okay, just going to use theta=100 for now."
   ]
  },
  {
   "cell_type": "code",
   "execution_count": 56,
   "metadata": {
    "collapsed": true
   },
   "outputs": [],
   "source": [
    "theta = 100"
   ]
  },
  {
   "cell_type": "code",
   "execution_count": 154,
   "metadata": {
    "collapsed": true
   },
   "outputs": [],
   "source": [
    "#load test data\n",
    "X_test = pd.read_csv('X_test.csv')"
   ]
  },
  {
   "cell_type": "code",
   "execution_count": 155,
   "metadata": {
    "collapsed": false,
    "scrolled": true
   },
   "outputs": [
    {
     "data": {
      "text/plain": [
       "(56961, 30)"
      ]
     },
     "execution_count": 155,
     "metadata": {},
     "output_type": "execute_result"
    }
   ],
   "source": [
    "X_test.shape #should be (56961, 30)"
   ]
  },
  {
   "cell_type": "code",
   "execution_count": 156,
   "metadata": {
    "collapsed": false
   },
   "outputs": [],
   "source": [
    "X_test = X_test.drop('Time', 1)"
   ]
  },
  {
   "cell_type": "code",
   "execution_count": 157,
   "metadata": {
    "collapsed": false
   },
   "outputs": [
    {
     "data": {
      "text/plain": [
       "(56961, 29)"
      ]
     },
     "execution_count": 157,
     "metadata": {},
     "output_type": "execute_result"
    }
   ],
   "source": [
    "X_test.shape"
   ]
  },
  {
   "cell_type": "code",
   "execution_count": 158,
   "metadata": {
    "collapsed": true
   },
   "outputs": [],
   "source": [
    "X_test = (X_test - X_test.mean()) / (X_test.std())"
   ]
  },
  {
   "cell_type": "code",
   "execution_count": 62,
   "metadata": {
    "collapsed": false
   },
   "outputs": [],
   "source": [
    "test_distances = []"
   ]
  },
  {
   "cell_type": "code",
   "execution_count": 63,
   "metadata": {
    "collapsed": false
   },
   "outputs": [],
   "source": [
    "for row in X_test.values:\n",
    "    distance = np.dot(np.dot(row, Sn_inv), row.T)\n",
    "    test_distances.append(distance)"
   ]
  },
  {
   "cell_type": "code",
   "execution_count": 64,
   "metadata": {
    "collapsed": true
   },
   "outputs": [],
   "source": [
    "test_distances = np.array(test_distances)"
   ]
  },
  {
   "cell_type": "code",
   "execution_count": 65,
   "metadata": {
    "collapsed": false
   },
   "outputs": [
    {
     "data": {
      "text/plain": [
       "(56961,)"
      ]
     },
     "execution_count": 65,
     "metadata": {},
     "output_type": "execute_result"
    }
   ],
   "source": [
    "test_distances.shape #should be (56961)"
   ]
  },
  {
   "cell_type": "code",
   "execution_count": 66,
   "metadata": {
    "collapsed": true
   },
   "outputs": [],
   "source": [
    "y_test = pd.read_csv('y_test.csv', header=None)"
   ]
  },
  {
   "cell_type": "code",
   "execution_count": 67,
   "metadata": {
    "collapsed": false
   },
   "outputs": [
    {
     "data": {
      "text/plain": [
       "(56961, 1)"
      ]
     },
     "execution_count": 67,
     "metadata": {},
     "output_type": "execute_result"
    }
   ],
   "source": [
    "y_test.shape #should be (56961, 1)"
   ]
  },
  {
   "cell_type": "code",
   "execution_count": 68,
   "metadata": {
    "collapsed": false
   },
   "outputs": [],
   "source": [
    "y_predicted = np.zeros_like(y_test)"
   ]
  },
  {
   "cell_type": "code",
   "execution_count": 69,
   "metadata": {
    "collapsed": true
   },
   "outputs": [],
   "source": [
    "y_predicted[np.where(test_distances >= theta)] = 1"
   ]
  },
  {
   "cell_type": "code",
   "execution_count": 70,
   "metadata": {
    "collapsed": false,
    "scrolled": true
   },
   "outputs": [
    {
     "data": {
      "text/plain": [
       "0.91359294355193865"
      ]
     },
     "execution_count": 70,
     "metadata": {},
     "output_type": "execute_result"
    }
   ],
   "source": [
    "auc_final = roc_auc_score(y_test, y_predicted)\n",
    "auc_final"
   ]
  },
  {
   "cell_type": "markdown",
   "metadata": {},
   "source": [
    "This is only slightly better than the centroid model. How about the false positive and false positive rates, like in the paper? Reminder, I define them the opposite way, so my false positive rate is $f_t$ and my false negative rate is $f_o$. Unfortunately, scikit learn can only calculate the false negative rate."
   ]
  },
  {
   "cell_type": "code",
   "execution_count": 72,
   "metadata": {
    "collapsed": false
   },
   "outputs": [
    {
     "data": {
      "text/plain": [
       "0.15104166666666663"
      ]
     },
     "execution_count": 72,
     "metadata": {},
     "output_type": "execute_result"
    }
   ],
   "source": [
    "fo_final = 1 - recall_score(y_test, y_predicted)\n",
    "fo_final"
   ]
  },
  {
   "cell_type": "markdown",
   "metadata": {},
   "source": [
    "So 15% of my outliers were misclassified."
   ]
  },
  {
   "cell_type": "markdown",
   "metadata": {},
   "source": [
    "## Initial Training Without 'Amount'\n",
    "Now I'll take out the 'Amount' column so I only have the principle components and can test what happens to the accuracy when I remove some components."
   ]
  },
  {
   "cell_type": "code",
   "execution_count": 73,
   "metadata": {
    "collapsed": false
   },
   "outputs": [
    {
     "data": {
      "text/html": [
       "<div>\n",
       "<table border=\"1\" class=\"dataframe\">\n",
       "  <thead>\n",
       "    <tr style=\"text-align: right;\">\n",
       "      <th></th>\n",
       "      <th>V1</th>\n",
       "      <th>V2</th>\n",
       "      <th>V3</th>\n",
       "      <th>V4</th>\n",
       "      <th>V5</th>\n",
       "      <th>V6</th>\n",
       "      <th>V7</th>\n",
       "      <th>V8</th>\n",
       "      <th>V9</th>\n",
       "      <th>V10</th>\n",
       "      <th>...</th>\n",
       "      <th>V19</th>\n",
       "      <th>V20</th>\n",
       "      <th>V21</th>\n",
       "      <th>V22</th>\n",
       "      <th>V23</th>\n",
       "      <th>V24</th>\n",
       "      <th>V25</th>\n",
       "      <th>V26</th>\n",
       "      <th>V27</th>\n",
       "      <th>V28</th>\n",
       "    </tr>\n",
       "  </thead>\n",
       "  <tbody>\n",
       "    <tr>\n",
       "      <th>0</th>\n",
       "      <td>-0.682692</td>\n",
       "      <td>0.074469</td>\n",
       "      <td>1.970368</td>\n",
       "      <td>2.334024</td>\n",
       "      <td>-0.726982</td>\n",
       "      <td>1.552156</td>\n",
       "      <td>-1.069496</td>\n",
       "      <td>1.067019</td>\n",
       "      <td>-0.033580</td>\n",
       "      <td>0.038373</td>\n",
       "      <td>...</td>\n",
       "      <td>2.323331</td>\n",
       "      <td>0.399102</td>\n",
       "      <td>0.342939</td>\n",
       "      <td>0.979191</td>\n",
       "      <td>-0.400054</td>\n",
       "      <td>-0.744034</td>\n",
       "      <td>0.519602</td>\n",
       "      <td>1.177438</td>\n",
       "      <td>0.069908</td>\n",
       "      <td>-0.116969</td>\n",
       "    </tr>\n",
       "    <tr>\n",
       "      <th>1</th>\n",
       "      <td>-0.785382</td>\n",
       "      <td>-0.271208</td>\n",
       "      <td>0.252359</td>\n",
       "      <td>1.260744</td>\n",
       "      <td>-0.884156</td>\n",
       "      <td>0.369222</td>\n",
       "      <td>1.251890</td>\n",
       "      <td>0.382128</td>\n",
       "      <td>-0.448178</td>\n",
       "      <td>-0.790600</td>\n",
       "      <td>...</td>\n",
       "      <td>0.773530</td>\n",
       "      <td>1.081643</td>\n",
       "      <td>0.483848</td>\n",
       "      <td>0.237376</td>\n",
       "      <td>1.536345</td>\n",
       "      <td>0.027659</td>\n",
       "      <td>-0.385820</td>\n",
       "      <td>-0.595336</td>\n",
       "      <td>-0.158483</td>\n",
       "      <td>0.217217</td>\n",
       "    </tr>\n",
       "    <tr>\n",
       "      <th>2</th>\n",
       "      <td>-1.859792</td>\n",
       "      <td>-2.314285</td>\n",
       "      <td>0.616556</td>\n",
       "      <td>0.585573</td>\n",
       "      <td>1.026250</td>\n",
       "      <td>-1.040716</td>\n",
       "      <td>-1.400908</td>\n",
       "      <td>0.713564</td>\n",
       "      <td>-1.327569</td>\n",
       "      <td>0.184511</td>\n",
       "      <td>...</td>\n",
       "      <td>-0.718294</td>\n",
       "      <td>1.148032</td>\n",
       "      <td>0.125371</td>\n",
       "      <td>-1.493380</td>\n",
       "      <td>0.626866</td>\n",
       "      <td>-0.741014</td>\n",
       "      <td>-0.679065</td>\n",
       "      <td>-1.807222</td>\n",
       "      <td>0.195999</td>\n",
       "      <td>-1.385237</td>\n",
       "    </tr>\n",
       "    <tr>\n",
       "      <th>3</th>\n",
       "      <td>-0.106238</td>\n",
       "      <td>-0.300903</td>\n",
       "      <td>0.765639</td>\n",
       "      <td>-0.286803</td>\n",
       "      <td>-0.650297</td>\n",
       "      <td>0.657964</td>\n",
       "      <td>0.231476</td>\n",
       "      <td>0.365284</td>\n",
       "      <td>0.883884</td>\n",
       "      <td>-0.798406</td>\n",
       "      <td>...</td>\n",
       "      <td>0.367031</td>\n",
       "      <td>0.246710</td>\n",
       "      <td>0.000076</td>\n",
       "      <td>-0.211331</td>\n",
       "      <td>0.903684</td>\n",
       "      <td>1.220864</td>\n",
       "      <td>-1.362212</td>\n",
       "      <td>0.593830</td>\n",
       "      <td>-0.101044</td>\n",
       "      <td>0.053170</td>\n",
       "    </tr>\n",
       "    <tr>\n",
       "      <th>4</th>\n",
       "      <td>-0.367910</td>\n",
       "      <td>0.879201</td>\n",
       "      <td>0.673034</td>\n",
       "      <td>0.653100</td>\n",
       "      <td>-0.120482</td>\n",
       "      <td>-0.427617</td>\n",
       "      <td>0.314663</td>\n",
       "      <td>0.361283</td>\n",
       "      <td>-0.695722</td>\n",
       "      <td>-0.286790</td>\n",
       "      <td>...</td>\n",
       "      <td>-0.106304</td>\n",
       "      <td>-0.024500</td>\n",
       "      <td>0.283982</td>\n",
       "      <td>0.924030</td>\n",
       "      <td>-0.081404</td>\n",
       "      <td>0.692324</td>\n",
       "      <td>-0.546980</td>\n",
       "      <td>-0.634584</td>\n",
       "      <td>0.789052</td>\n",
       "      <td>0.471159</td>\n",
       "    </tr>\n",
       "  </tbody>\n",
       "</table>\n",
       "<p>5 rows × 28 columns</p>\n",
       "</div>"
      ],
      "text/plain": [
       "         V1        V2        V3        V4        V5        V6        V7  \\\n",
       "0 -0.682692  0.074469  1.970368  2.334024 -0.726982  1.552156 -1.069496   \n",
       "1 -0.785382 -0.271208  0.252359  1.260744 -0.884156  0.369222  1.251890   \n",
       "2 -1.859792 -2.314285  0.616556  0.585573  1.026250 -1.040716 -1.400908   \n",
       "3 -0.106238 -0.300903  0.765639 -0.286803 -0.650297  0.657964  0.231476   \n",
       "4 -0.367910  0.879201  0.673034  0.653100 -0.120482 -0.427617  0.314663   \n",
       "\n",
       "         V8        V9       V10    ...          V19       V20       V21  \\\n",
       "0  1.067019 -0.033580  0.038373    ...     2.323331  0.399102  0.342939   \n",
       "1  0.382128 -0.448178 -0.790600    ...     0.773530  1.081643  0.483848   \n",
       "2  0.713564 -1.327569  0.184511    ...    -0.718294  1.148032  0.125371   \n",
       "3  0.365284  0.883884 -0.798406    ...     0.367031  0.246710  0.000076   \n",
       "4  0.361283 -0.695722 -0.286790    ...    -0.106304 -0.024500  0.283982   \n",
       "\n",
       "        V22       V23       V24       V25       V26       V27       V28  \n",
       "0  0.979191 -0.400054 -0.744034  0.519602  1.177438  0.069908 -0.116969  \n",
       "1  0.237376  1.536345  0.027659 -0.385820 -0.595336 -0.158483  0.217217  \n",
       "2 -1.493380  0.626866 -0.741014 -0.679065 -1.807222  0.195999 -1.385237  \n",
       "3 -0.211331  0.903684  1.220864 -1.362212  0.593830 -0.101044  0.053170  \n",
       "4  0.924030 -0.081404  0.692324 -0.546980 -0.634584  0.789052  0.471159  \n",
       "\n",
       "[5 rows x 28 columns]"
      ]
     },
     "execution_count": 73,
     "metadata": {},
     "output_type": "execute_result"
    }
   ],
   "source": [
    "X_train = X_train.drop('Amount', 1)\n",
    "X_train.head()"
   ]
  },
  {
   "cell_type": "code",
   "execution_count": 166,
   "metadata": {
    "collapsed": false
   },
   "outputs": [
    {
     "data": {
      "text/plain": [
       "(142403, 28)"
      ]
     },
     "execution_count": 166,
     "metadata": {},
     "output_type": "execute_result"
    }
   ],
   "source": [
    "X_train.shape #should be (142403, 28)"
   ]
  },
  {
   "cell_type": "code",
   "execution_count": 75,
   "metadata": {
    "collapsed": true
   },
   "outputs": [],
   "source": [
    "X_train = (X_train - X_train.mean()) / (X_train.std())"
   ]
  },
  {
   "cell_type": "code",
   "execution_count": 76,
   "metadata": {
    "collapsed": true
   },
   "outputs": [],
   "source": [
    "p = X_train.shape[1] #number of features\n",
    "n = X_train.shape[0] #number of observations"
   ]
  },
  {
   "cell_type": "markdown",
   "metadata": {},
   "source": [
    "Let's try the beta distribution again."
   ]
  },
  {
   "cell_type": "code",
   "execution_count": 79,
   "metadata": {
    "collapsed": true
   },
   "outputs": [],
   "source": [
    "#find some thetas to test by choosing several f's\n",
    "f=np.array([0.9, 0.95, 0.99, 0.999])"
   ]
  },
  {
   "cell_type": "code",
   "execution_count": 80,
   "metadata": {
    "collapsed": true
   },
   "outputs": [],
   "source": [
    "#shape parameters for beta distribution\n",
    "a = p / 2\n",
    "b = (n - p - 1) / 2"
   ]
  },
  {
   "cell_type": "code",
   "execution_count": 81,
   "metadata": {
    "collapsed": true
   },
   "outputs": [],
   "source": [
    "# using scipy for the beta distribution\n",
    "q = f * n / (n - 1)**2 + beta.cdf(0, a, b)"
   ]
  },
  {
   "cell_type": "code",
   "execution_count": 82,
   "metadata": {
    "collapsed": false
   },
   "outputs": [],
   "source": [
    "# ppf gives the value of x where F(x)=q\n",
    "thetas = beta.ppf(q, a, b)"
   ]
  },
  {
   "cell_type": "code",
   "execution_count": 83,
   "metadata": {
    "collapsed": false
   },
   "outputs": [
    {
     "data": {
      "text/plain": [
       "array([  4.45415986e-05,   4.47594810e-05,   4.49265866e-05,\n",
       "         4.49633593e-05])"
      ]
     },
     "execution_count": 83,
     "metadata": {},
     "output_type": "execute_result"
    }
   ],
   "source": [
    "thetas"
   ]
  },
  {
   "cell_type": "code",
   "execution_count": 84,
   "metadata": {
    "collapsed": false
   },
   "outputs": [],
   "source": [
    "Sn = 1 / (n - 1) * np.dot(X_train.T, X_train) #mean is zero"
   ]
  },
  {
   "cell_type": "code",
   "execution_count": 85,
   "metadata": {
    "collapsed": false,
    "scrolled": false
   },
   "outputs": [
    {
     "data": {
      "text/plain": [
       "(28, 28)"
      ]
     },
     "execution_count": 85,
     "metadata": {},
     "output_type": "execute_result"
    }
   ],
   "source": [
    "Sn.shape # should be (29,29)"
   ]
  },
  {
   "cell_type": "code",
   "execution_count": 86,
   "metadata": {
    "collapsed": true
   },
   "outputs": [],
   "source": [
    "Sn_inv = inv(Sn)"
   ]
  },
  {
   "cell_type": "code",
   "execution_count": 87,
   "metadata": {
    "collapsed": true
   },
   "outputs": [],
   "source": [
    "#drop 'Amount' and mean normalize\n",
    "X_val = X_val.drop('Amount', 1)\n",
    "X_val = (X_val - X_val.mean()) / (X_val.std())"
   ]
  },
  {
   "cell_type": "code",
   "execution_count": 88,
   "metadata": {
    "collapsed": false
   },
   "outputs": [
    {
     "data": {
      "text/plain": [
       "(56961, 28)"
      ]
     },
     "execution_count": 88,
     "metadata": {},
     "output_type": "execute_result"
    }
   ],
   "source": [
    "X_val.shape # should be (56961, 28)"
   ]
  },
  {
   "cell_type": "code",
   "execution_count": 89,
   "metadata": {
    "collapsed": false
   },
   "outputs": [],
   "source": [
    "val_distances = []"
   ]
  },
  {
   "cell_type": "code",
   "execution_count": 90,
   "metadata": {
    "collapsed": false
   },
   "outputs": [],
   "source": [
    "for row in X_val.values:\n",
    "    distance = np.dot(np.dot(row, Sn_inv), row.T)\n",
    "    val_distances.append(distance)"
   ]
  },
  {
   "cell_type": "code",
   "execution_count": 91,
   "metadata": {
    "collapsed": true
   },
   "outputs": [],
   "source": [
    "val_distances = np.array(val_distances)"
   ]
  },
  {
   "cell_type": "code",
   "execution_count": 92,
   "metadata": {
    "collapsed": false
   },
   "outputs": [
    {
     "data": {
      "text/plain": [
       "(56961,)"
      ]
     },
     "execution_count": 92,
     "metadata": {},
     "output_type": "execute_result"
    }
   ],
   "source": [
    "val_distances.shape #should be (56961)"
   ]
  },
  {
   "cell_type": "code",
   "execution_count": 98,
   "metadata": {
    "collapsed": false,
    "scrolled": true
   },
   "outputs": [
    {
     "data": {
      "text/html": [
       "<div>\n",
       "<table border=\"1\" class=\"dataframe\">\n",
       "  <thead>\n",
       "    <tr style=\"text-align: right;\">\n",
       "      <th></th>\n",
       "      <th>AUC</th>\n",
       "      <th>theta</th>\n",
       "    </tr>\n",
       "  </thead>\n",
       "  <tbody>\n",
       "    <tr>\n",
       "      <th>0</th>\n",
       "      <td>0.500000</td>\n",
       "      <td>0.01</td>\n",
       "    </tr>\n",
       "    <tr>\n",
       "      <th>1</th>\n",
       "      <td>0.500000</td>\n",
       "      <td>0.10</td>\n",
       "    </tr>\n",
       "    <tr>\n",
       "      <th>2</th>\n",
       "      <td>0.500000</td>\n",
       "      <td>1.00</td>\n",
       "    </tr>\n",
       "    <tr>\n",
       "      <th>3</th>\n",
       "      <td>0.599910</td>\n",
       "      <td>10.00</td>\n",
       "    </tr>\n",
       "    <tr>\n",
       "      <th>4</th>\n",
       "      <td>0.912988</td>\n",
       "      <td>100.00</td>\n",
       "    </tr>\n",
       "  </tbody>\n",
       "</table>\n",
       "</div>"
      ],
      "text/plain": [
       "        AUC   theta\n",
       "0  0.500000    0.01\n",
       "1  0.500000    0.10\n",
       "2  0.500000    1.00\n",
       "3  0.599910   10.00\n",
       "4  0.912988  100.00"
      ]
     },
     "execution_count": 98,
     "metadata": {},
     "output_type": "execute_result"
    }
   ],
   "source": [
    "auc = pd.DataFrame({'theta': [], 'AUC': []})\n",
    "\n",
    "for theta in thetas:\n",
    "    row = {}\n",
    "    row['theta'] = theta\n",
    "    \n",
    "    y_predicted = np.zeros_like(y_val)\n",
    "    y_predicted[np.where(val_distances > theta)] = 1\n",
    "    row['AUC'] = roc_auc_score(y_val, y_predicted)\n",
    "    \n",
    "    auc = auc.append(row, ignore_index=True)\n",
    "auc"
   ]
  },
  {
   "cell_type": "markdown",
   "metadata": {},
   "source": [
    "Still bad..."
   ]
  },
  {
   "cell_type": "code",
   "execution_count": 99,
   "metadata": {
    "collapsed": true
   },
   "outputs": [],
   "source": [
    "thetas = [0.01, 0.1, 1, 10, 100]"
   ]
  },
  {
   "cell_type": "code",
   "execution_count": 100,
   "metadata": {
    "collapsed": false,
    "scrolled": false
   },
   "outputs": [
    {
     "data": {
      "text/html": [
       "<div>\n",
       "<table border=\"1\" class=\"dataframe\">\n",
       "  <thead>\n",
       "    <tr style=\"text-align: right;\">\n",
       "      <th></th>\n",
       "      <th>AUC</th>\n",
       "      <th>theta</th>\n",
       "    </tr>\n",
       "  </thead>\n",
       "  <tbody>\n",
       "    <tr>\n",
       "      <th>0</th>\n",
       "      <td>0.500000</td>\n",
       "      <td>0.01</td>\n",
       "    </tr>\n",
       "    <tr>\n",
       "      <th>1</th>\n",
       "      <td>0.500000</td>\n",
       "      <td>0.10</td>\n",
       "    </tr>\n",
       "    <tr>\n",
       "      <th>2</th>\n",
       "      <td>0.500000</td>\n",
       "      <td>1.00</td>\n",
       "    </tr>\n",
       "    <tr>\n",
       "      <th>3</th>\n",
       "      <td>0.599910</td>\n",
       "      <td>10.00</td>\n",
       "    </tr>\n",
       "    <tr>\n",
       "      <th>4</th>\n",
       "      <td>0.912988</td>\n",
       "      <td>100.00</td>\n",
       "    </tr>\n",
       "  </tbody>\n",
       "</table>\n",
       "</div>"
      ],
      "text/plain": [
       "        AUC   theta\n",
       "0  0.500000    0.01\n",
       "1  0.500000    0.10\n",
       "2  0.500000    1.00\n",
       "3  0.599910   10.00\n",
       "4  0.912988  100.00"
      ]
     },
     "execution_count": 100,
     "metadata": {},
     "output_type": "execute_result"
    }
   ],
   "source": [
    "auc = pd.DataFrame({'theta': [], 'AUC': []})\n",
    "\n",
    "for theta in thetas:\n",
    "    row = {}\n",
    "    row['theta'] = theta\n",
    "    \n",
    "    y_predicted = np.zeros_like(y_val)\n",
    "    y_predicted[np.where(val_distances > theta)] = 1\n",
    "    row['AUC'] = roc_auc_score(y_val, y_predicted)\n",
    "    \n",
    "    auc = auc.append(row, ignore_index=True)\n",
    "auc"
   ]
  },
  {
   "cell_type": "code",
   "execution_count": 101,
   "metadata": {
    "collapsed": true
   },
   "outputs": [],
   "source": [
    "thetas = [80, 90, 100, 110, 120]"
   ]
  },
  {
   "cell_type": "code",
   "execution_count": 102,
   "metadata": {
    "collapsed": false,
    "scrolled": true
   },
   "outputs": [
    {
     "data": {
      "text/html": [
       "<div>\n",
       "<table border=\"1\" class=\"dataframe\">\n",
       "  <thead>\n",
       "    <tr style=\"text-align: right;\">\n",
       "      <th></th>\n",
       "      <th>AUC</th>\n",
       "      <th>theta</th>\n",
       "    </tr>\n",
       "  </thead>\n",
       "  <tbody>\n",
       "    <tr>\n",
       "      <th>0</th>\n",
       "      <td>0.912799</td>\n",
       "      <td>80.0</td>\n",
       "    </tr>\n",
       "    <tr>\n",
       "      <th>1</th>\n",
       "      <td>0.911825</td>\n",
       "      <td>90.0</td>\n",
       "    </tr>\n",
       "    <tr>\n",
       "      <th>2</th>\n",
       "      <td>0.912988</td>\n",
       "      <td>100.0</td>\n",
       "    </tr>\n",
       "    <tr>\n",
       "      <th>3</th>\n",
       "      <td>0.913974</td>\n",
       "      <td>110.0</td>\n",
       "    </tr>\n",
       "    <tr>\n",
       "      <th>4</th>\n",
       "      <td>0.914908</td>\n",
       "      <td>120.0</td>\n",
       "    </tr>\n",
       "  </tbody>\n",
       "</table>\n",
       "</div>"
      ],
      "text/plain": [
       "        AUC  theta\n",
       "0  0.912799   80.0\n",
       "1  0.911825   90.0\n",
       "2  0.912988  100.0\n",
       "3  0.913974  110.0\n",
       "4  0.914908  120.0"
      ]
     },
     "execution_count": 102,
     "metadata": {},
     "output_type": "execute_result"
    }
   ],
   "source": [
    "auc = pd.DataFrame({'theta': [], 'AUC': []})\n",
    "\n",
    "for theta in thetas:\n",
    "    row = {}\n",
    "    row['theta'] = theta\n",
    "    \n",
    "    y_predicted = np.zeros_like(y_val)\n",
    "    y_predicted[np.where(val_distances > theta)] = 1\n",
    "    row['AUC'] = roc_auc_score(y_val, y_predicted)\n",
    "    \n",
    "    auc = auc.append(row, ignore_index=True)\n",
    "auc"
   ]
  },
  {
   "cell_type": "code",
   "execution_count": 104,
   "metadata": {
    "collapsed": true
   },
   "outputs": [],
   "source": [
    "thetas = [120, 130, 140, 150]"
   ]
  },
  {
   "cell_type": "code",
   "execution_count": 105,
   "metadata": {
    "collapsed": false,
    "scrolled": true
   },
   "outputs": [
    {
     "data": {
      "text/html": [
       "<div>\n",
       "<table border=\"1\" class=\"dataframe\">\n",
       "  <thead>\n",
       "    <tr style=\"text-align: right;\">\n",
       "      <th></th>\n",
       "      <th>AUC</th>\n",
       "      <th>theta</th>\n",
       "    </tr>\n",
       "  </thead>\n",
       "  <tbody>\n",
       "    <tr>\n",
       "      <th>0</th>\n",
       "      <td>0.914908</td>\n",
       "      <td>120.0</td>\n",
       "    </tr>\n",
       "    <tr>\n",
       "      <th>1</th>\n",
       "      <td>0.915665</td>\n",
       "      <td>130.0</td>\n",
       "    </tr>\n",
       "    <tr>\n",
       "      <th>2</th>\n",
       "      <td>0.913722</td>\n",
       "      <td>140.0</td>\n",
       "    </tr>\n",
       "    <tr>\n",
       "      <th>3</th>\n",
       "      <td>0.911673</td>\n",
       "      <td>150.0</td>\n",
       "    </tr>\n",
       "  </tbody>\n",
       "</table>\n",
       "</div>"
      ],
      "text/plain": [
       "        AUC  theta\n",
       "0  0.914908  120.0\n",
       "1  0.915665  130.0\n",
       "2  0.913722  140.0\n",
       "3  0.911673  150.0"
      ]
     },
     "execution_count": 105,
     "metadata": {},
     "output_type": "execute_result"
    }
   ],
   "source": [
    "auc = pd.DataFrame({'theta': [], 'AUC': []})\n",
    "\n",
    "for theta in thetas:\n",
    "    row = {}\n",
    "    row['theta'] = theta\n",
    "    \n",
    "    y_predicted = np.zeros_like(y_val)\n",
    "    y_predicted[np.where(val_distances > theta)] = 1\n",
    "    row['AUC'] = roc_auc_score(y_val, y_predicted)\n",
    "    \n",
    "    auc = auc.append(row, ignore_index=True)\n",
    "auc"
   ]
  },
  {
   "cell_type": "code",
   "execution_count": 106,
   "metadata": {
    "collapsed": false,
    "scrolled": false
   },
   "outputs": [
    {
     "data": {
      "text/plain": [
       "AUC        0.915665\n",
       "theta    130.000000\n",
       "Name: 1, dtype: float64"
      ]
     },
     "execution_count": 106,
     "metadata": {},
     "output_type": "execute_result"
    }
   ],
   "source": [
    "auc.loc[auc['AUC'].idxmax()]"
   ]
  },
  {
   "cell_type": "markdown",
   "metadata": {},
   "source": [
    "Now to remove some components and see what happens."
   ]
  },
  {
   "cell_type": "code",
   "execution_count": 119,
   "metadata": {
    "collapsed": true
   },
   "outputs": [],
   "source": [
    "thetas = [80, 90, 100, 110, 120, 130, 140, 150]"
   ]
  },
  {
   "cell_type": "code",
   "execution_count": 150,
   "metadata": {
    "collapsed": false,
    "scrolled": true
   },
   "outputs": [
    {
     "data": {
      "text/html": [
       "<div>\n",
       "<table border=\"1\" class=\"dataframe\">\n",
       "  <thead>\n",
       "    <tr style=\"text-align: right;\">\n",
       "      <th></th>\n",
       "      <th>AUC</th>\n",
       "      <th>HV cols removed</th>\n",
       "      <th>theta</th>\n",
       "    </tr>\n",
       "  </thead>\n",
       "  <tbody>\n",
       "    <tr>\n",
       "      <th>0</th>\n",
       "      <td>0.913389</td>\n",
       "      <td>1.0</td>\n",
       "      <td>80.0</td>\n",
       "    </tr>\n",
       "    <tr>\n",
       "      <th>1</th>\n",
       "      <td>0.912212</td>\n",
       "      <td>1.0</td>\n",
       "      <td>90.0</td>\n",
       "    </tr>\n",
       "    <tr>\n",
       "      <th>2</th>\n",
       "      <td>0.913428</td>\n",
       "      <td>1.0</td>\n",
       "      <td>100.0</td>\n",
       "    </tr>\n",
       "    <tr>\n",
       "      <th>3</th>\n",
       "      <td>0.914503</td>\n",
       "      <td>1.0</td>\n",
       "      <td>110.0</td>\n",
       "    </tr>\n",
       "    <tr>\n",
       "      <th>4</th>\n",
       "      <td>0.915375</td>\n",
       "      <td>1.0</td>\n",
       "      <td>120.0</td>\n",
       "    </tr>\n",
       "    <tr>\n",
       "      <th>5</th>\n",
       "      <td>0.916150</td>\n",
       "      <td>1.0</td>\n",
       "      <td>130.0</td>\n",
       "    </tr>\n",
       "    <tr>\n",
       "      <th>6</th>\n",
       "      <td>0.914145</td>\n",
       "      <td>1.0</td>\n",
       "      <td>140.0</td>\n",
       "    </tr>\n",
       "    <tr>\n",
       "      <th>7</th>\n",
       "      <td>0.912025</td>\n",
       "      <td>1.0</td>\n",
       "      <td>150.0</td>\n",
       "    </tr>\n",
       "    <tr>\n",
       "      <th>8</th>\n",
       "      <td>0.911684</td>\n",
       "      <td>2.0</td>\n",
       "      <td>80.0</td>\n",
       "    </tr>\n",
       "    <tr>\n",
       "      <th>9</th>\n",
       "      <td>0.912873</td>\n",
       "      <td>2.0</td>\n",
       "      <td>90.0</td>\n",
       "    </tr>\n",
       "    <tr>\n",
       "      <th>10</th>\n",
       "      <td>0.914150</td>\n",
       "      <td>2.0</td>\n",
       "      <td>100.0</td>\n",
       "    </tr>\n",
       "    <tr>\n",
       "      <th>11</th>\n",
       "      <td>0.915181</td>\n",
       "      <td>2.0</td>\n",
       "      <td>110.0</td>\n",
       "    </tr>\n",
       "    <tr>\n",
       "      <th>12</th>\n",
       "      <td>0.916035</td>\n",
       "      <td>2.0</td>\n",
       "      <td>120.0</td>\n",
       "    </tr>\n",
       "    <tr>\n",
       "      <th>13</th>\n",
       "      <td>0.916608</td>\n",
       "      <td>2.0</td>\n",
       "      <td>130.0</td>\n",
       "    </tr>\n",
       "    <tr>\n",
       "      <th>14</th>\n",
       "      <td>0.914656</td>\n",
       "      <td>2.0</td>\n",
       "      <td>140.0</td>\n",
       "    </tr>\n",
       "    <tr>\n",
       "      <th>15</th>\n",
       "      <td>0.912580</td>\n",
       "      <td>2.0</td>\n",
       "      <td>150.0</td>\n",
       "    </tr>\n",
       "    <tr>\n",
       "      <th>16</th>\n",
       "      <td>0.911878</td>\n",
       "      <td>3.0</td>\n",
       "      <td>80.0</td>\n",
       "    </tr>\n",
       "    <tr>\n",
       "      <th>17</th>\n",
       "      <td>0.913058</td>\n",
       "      <td>3.0</td>\n",
       "      <td>90.0</td>\n",
       "    </tr>\n",
       "    <tr>\n",
       "      <th>18</th>\n",
       "      <td>0.914265</td>\n",
       "      <td>3.0</td>\n",
       "      <td>100.0</td>\n",
       "    </tr>\n",
       "    <tr>\n",
       "      <th>19</th>\n",
       "      <td>0.915357</td>\n",
       "      <td>3.0</td>\n",
       "      <td>110.0</td>\n",
       "    </tr>\n",
       "    <tr>\n",
       "      <th>20</th>\n",
       "      <td>0.916150</td>\n",
       "      <td>3.0</td>\n",
       "      <td>120.0</td>\n",
       "    </tr>\n",
       "    <tr>\n",
       "      <th>21</th>\n",
       "      <td>0.914224</td>\n",
       "      <td>3.0</td>\n",
       "      <td>130.0</td>\n",
       "    </tr>\n",
       "    <tr>\n",
       "      <th>22</th>\n",
       "      <td>0.912246</td>\n",
       "      <td>3.0</td>\n",
       "      <td>140.0</td>\n",
       "    </tr>\n",
       "    <tr>\n",
       "      <th>23</th>\n",
       "      <td>0.907593</td>\n",
       "      <td>3.0</td>\n",
       "      <td>150.0</td>\n",
       "    </tr>\n",
       "    <tr>\n",
       "      <th>24</th>\n",
       "      <td>0.912151</td>\n",
       "      <td>4.0</td>\n",
       "      <td>80.0</td>\n",
       "    </tr>\n",
       "    <tr>\n",
       "      <th>25</th>\n",
       "      <td>0.913402</td>\n",
       "      <td>4.0</td>\n",
       "      <td>90.0</td>\n",
       "    </tr>\n",
       "    <tr>\n",
       "      <th>26</th>\n",
       "      <td>0.914520</td>\n",
       "      <td>4.0</td>\n",
       "      <td>100.0</td>\n",
       "    </tr>\n",
       "    <tr>\n",
       "      <th>27</th>\n",
       "      <td>0.915542</td>\n",
       "      <td>4.0</td>\n",
       "      <td>110.0</td>\n",
       "    </tr>\n",
       "    <tr>\n",
       "      <th>28</th>\n",
       "      <td>0.911206</td>\n",
       "      <td>4.0</td>\n",
       "      <td>120.0</td>\n",
       "    </tr>\n",
       "    <tr>\n",
       "      <th>29</th>\n",
       "      <td>0.906747</td>\n",
       "      <td>4.0</td>\n",
       "      <td>130.0</td>\n",
       "    </tr>\n",
       "    <tr>\n",
       "      <th>...</th>\n",
       "      <td>...</td>\n",
       "      <td>...</td>\n",
       "      <td>...</td>\n",
       "    </tr>\n",
       "    <tr>\n",
       "      <th>50</th>\n",
       "      <td>0.910669</td>\n",
       "      <td>7.0</td>\n",
       "      <td>100.0</td>\n",
       "    </tr>\n",
       "    <tr>\n",
       "      <th>51</th>\n",
       "      <td>0.906342</td>\n",
       "      <td>7.0</td>\n",
       "      <td>110.0</td>\n",
       "    </tr>\n",
       "    <tr>\n",
       "      <th>52</th>\n",
       "      <td>0.896719</td>\n",
       "      <td>7.0</td>\n",
       "      <td>120.0</td>\n",
       "    </tr>\n",
       "    <tr>\n",
       "      <th>53</th>\n",
       "      <td>0.894776</td>\n",
       "      <td>7.0</td>\n",
       "      <td>130.0</td>\n",
       "    </tr>\n",
       "    <tr>\n",
       "      <th>54</th>\n",
       "      <td>0.895269</td>\n",
       "      <td>7.0</td>\n",
       "      <td>140.0</td>\n",
       "    </tr>\n",
       "    <tr>\n",
       "      <th>55</th>\n",
       "      <td>0.888021</td>\n",
       "      <td>7.0</td>\n",
       "      <td>150.0</td>\n",
       "    </tr>\n",
       "    <tr>\n",
       "      <th>56</th>\n",
       "      <td>0.912313</td>\n",
       "      <td>8.0</td>\n",
       "      <td>80.0</td>\n",
       "    </tr>\n",
       "    <tr>\n",
       "      <th>57</th>\n",
       "      <td>0.910783</td>\n",
       "      <td>8.0</td>\n",
       "      <td>90.0</td>\n",
       "    </tr>\n",
       "    <tr>\n",
       "      <th>58</th>\n",
       "      <td>0.911576</td>\n",
       "      <td>8.0</td>\n",
       "      <td>100.0</td>\n",
       "    </tr>\n",
       "    <tr>\n",
       "      <th>59</th>\n",
       "      <td>0.907108</td>\n",
       "      <td>8.0</td>\n",
       "      <td>110.0</td>\n",
       "    </tr>\n",
       "    <tr>\n",
       "      <th>60</th>\n",
       "      <td>0.894979</td>\n",
       "      <td>8.0</td>\n",
       "      <td>120.0</td>\n",
       "    </tr>\n",
       "    <tr>\n",
       "      <th>61</th>\n",
       "      <td>0.892930</td>\n",
       "      <td>8.0</td>\n",
       "      <td>130.0</td>\n",
       "    </tr>\n",
       "    <tr>\n",
       "      <th>62</th>\n",
       "      <td>0.893511</td>\n",
       "      <td>8.0</td>\n",
       "      <td>140.0</td>\n",
       "    </tr>\n",
       "    <tr>\n",
       "      <th>63</th>\n",
       "      <td>0.886281</td>\n",
       "      <td>8.0</td>\n",
       "      <td>150.0</td>\n",
       "    </tr>\n",
       "    <tr>\n",
       "      <th>64</th>\n",
       "      <td>0.910343</td>\n",
       "      <td>9.0</td>\n",
       "      <td>80.0</td>\n",
       "    </tr>\n",
       "    <tr>\n",
       "      <th>65</th>\n",
       "      <td>0.908655</td>\n",
       "      <td>9.0</td>\n",
       "      <td>90.0</td>\n",
       "    </tr>\n",
       "    <tr>\n",
       "      <th>66</th>\n",
       "      <td>0.906950</td>\n",
       "      <td>9.0</td>\n",
       "      <td>100.0</td>\n",
       "    </tr>\n",
       "    <tr>\n",
       "      <th>67</th>\n",
       "      <td>0.899984</td>\n",
       "      <td>9.0</td>\n",
       "      <td>110.0</td>\n",
       "    </tr>\n",
       "    <tr>\n",
       "      <th>68</th>\n",
       "      <td>0.892833</td>\n",
       "      <td>9.0</td>\n",
       "      <td>120.0</td>\n",
       "    </tr>\n",
       "    <tr>\n",
       "      <th>69</th>\n",
       "      <td>0.893317</td>\n",
       "      <td>9.0</td>\n",
       "      <td>130.0</td>\n",
       "    </tr>\n",
       "    <tr>\n",
       "      <th>70</th>\n",
       "      <td>0.888779</td>\n",
       "      <td>9.0</td>\n",
       "      <td>140.0</td>\n",
       "    </tr>\n",
       "    <tr>\n",
       "      <th>71</th>\n",
       "      <td>0.886536</td>\n",
       "      <td>9.0</td>\n",
       "      <td>150.0</td>\n",
       "    </tr>\n",
       "    <tr>\n",
       "      <th>72</th>\n",
       "      <td>0.906289</td>\n",
       "      <td>10.0</td>\n",
       "      <td>80.0</td>\n",
       "    </tr>\n",
       "    <tr>\n",
       "      <th>73</th>\n",
       "      <td>0.896984</td>\n",
       "      <td>10.0</td>\n",
       "      <td>90.0</td>\n",
       "    </tr>\n",
       "    <tr>\n",
       "      <th>74</th>\n",
       "      <td>0.895146</td>\n",
       "      <td>10.0</td>\n",
       "      <td>100.0</td>\n",
       "    </tr>\n",
       "    <tr>\n",
       "      <th>75</th>\n",
       "      <td>0.890546</td>\n",
       "      <td>10.0</td>\n",
       "      <td>110.0</td>\n",
       "    </tr>\n",
       "    <tr>\n",
       "      <th>76</th>\n",
       "      <td>0.890978</td>\n",
       "      <td>10.0</td>\n",
       "      <td>120.0</td>\n",
       "    </tr>\n",
       "    <tr>\n",
       "      <th>77</th>\n",
       "      <td>0.886290</td>\n",
       "      <td>10.0</td>\n",
       "      <td>130.0</td>\n",
       "    </tr>\n",
       "    <tr>\n",
       "      <th>78</th>\n",
       "      <td>0.873896</td>\n",
       "      <td>10.0</td>\n",
       "      <td>140.0</td>\n",
       "    </tr>\n",
       "    <tr>\n",
       "      <th>79</th>\n",
       "      <td>0.858942</td>\n",
       "      <td>10.0</td>\n",
       "      <td>150.0</td>\n",
       "    </tr>\n",
       "  </tbody>\n",
       "</table>\n",
       "<p>80 rows × 3 columns</p>\n",
       "</div>"
      ],
      "text/plain": [
       "         AUC  HV cols removed  theta\n",
       "0   0.913389              1.0   80.0\n",
       "1   0.912212              1.0   90.0\n",
       "2   0.913428              1.0  100.0\n",
       "3   0.914503              1.0  110.0\n",
       "4   0.915375              1.0  120.0\n",
       "5   0.916150              1.0  130.0\n",
       "6   0.914145              1.0  140.0\n",
       "7   0.912025              1.0  150.0\n",
       "8   0.911684              2.0   80.0\n",
       "9   0.912873              2.0   90.0\n",
       "10  0.914150              2.0  100.0\n",
       "11  0.915181              2.0  110.0\n",
       "12  0.916035              2.0  120.0\n",
       "13  0.916608              2.0  130.0\n",
       "14  0.914656              2.0  140.0\n",
       "15  0.912580              2.0  150.0\n",
       "16  0.911878              3.0   80.0\n",
       "17  0.913058              3.0   90.0\n",
       "18  0.914265              3.0  100.0\n",
       "19  0.915357              3.0  110.0\n",
       "20  0.916150              3.0  120.0\n",
       "21  0.914224              3.0  130.0\n",
       "22  0.912246              3.0  140.0\n",
       "23  0.907593              3.0  150.0\n",
       "24  0.912151              4.0   80.0\n",
       "25  0.913402              4.0   90.0\n",
       "26  0.914520              4.0  100.0\n",
       "27  0.915542              4.0  110.0\n",
       "28  0.911206              4.0  120.0\n",
       "29  0.906747              4.0  130.0\n",
       "..       ...              ...    ...\n",
       "50  0.910669              7.0  100.0\n",
       "51  0.906342              7.0  110.0\n",
       "52  0.896719              7.0  120.0\n",
       "53  0.894776              7.0  130.0\n",
       "54  0.895269              7.0  140.0\n",
       "55  0.888021              7.0  150.0\n",
       "56  0.912313              8.0   80.0\n",
       "57  0.910783              8.0   90.0\n",
       "58  0.911576              8.0  100.0\n",
       "59  0.907108              8.0  110.0\n",
       "60  0.894979              8.0  120.0\n",
       "61  0.892930              8.0  130.0\n",
       "62  0.893511              8.0  140.0\n",
       "63  0.886281              8.0  150.0\n",
       "64  0.910343              9.0   80.0\n",
       "65  0.908655              9.0   90.0\n",
       "66  0.906950              9.0  100.0\n",
       "67  0.899984              9.0  110.0\n",
       "68  0.892833              9.0  120.0\n",
       "69  0.893317              9.0  130.0\n",
       "70  0.888779              9.0  140.0\n",
       "71  0.886536              9.0  150.0\n",
       "72  0.906289             10.0   80.0\n",
       "73  0.896984             10.0   90.0\n",
       "74  0.895146             10.0  100.0\n",
       "75  0.890546             10.0  110.0\n",
       "76  0.890978             10.0  120.0\n",
       "77  0.886290             10.0  130.0\n",
       "78  0.873896             10.0  140.0\n",
       "79  0.858942             10.0  150.0\n",
       "\n",
       "[80 rows x 3 columns]"
      ]
     },
     "execution_count": 150,
     "metadata": {},
     "output_type": "execute_result"
    }
   ],
   "source": [
    "#removing high variance first\n",
    "auc = pd.DataFrame({'theta': [], 'AUC': [], 'HV cols removed': []})\n",
    "\n",
    "for i in range(1,11):\n",
    "    dict_row = {}\n",
    "    dict_row['HV cols removed'] = i\n",
    "    \n",
    "    #create the training subsets and renormalize\n",
    "    X_train_subset = X_train.ix[:,i:]\n",
    "    X_train_subset = (X_train_subset - X_train_subset.mean()) / (X_train_subset.std())\n",
    "    \n",
    "    #recalculate Sn\n",
    "    p = X_train_subset.shape[1] \n",
    "    n = X_train_subset.shape[0]\n",
    "    Sn = 1 / (n - 1) * np.dot(X_train_subset.T, X_train_subset) #mean is zero\n",
    "    Sn_inv = inv(Sn)\n",
    "    \n",
    "    #create the validation subsets and renormalize\n",
    "    X_val_subset = X_val.ix[:,i:]\n",
    "    X_val_subset = (X_val_subset - X_val_subset.mean()) / (X_val_subset.std())\n",
    "    \n",
    "    #get the distances\n",
    "    val_distances = []\n",
    "    for row in X_val_subset.values:\n",
    "        distance = np.dot(np.dot(row, Sn_inv), row.T)\n",
    "        val_distances.append(distance)\n",
    "    val_distances = np.array(val_distances)\n",
    "\n",
    "    for theta in thetas:\n",
    "        dict_row['theta'] = theta\n",
    "\n",
    "        y_predicted = np.zeros_like(y_val)\n",
    "        y_predicted[np.where(val_distances > theta)] = 1\n",
    "        dict_row['AUC'] = roc_auc_score(y_val, y_predicted)\n",
    "\n",
    "        auc = auc.append(dict_row, ignore_index=True)\n",
    "auc"
   ]
  },
  {
   "cell_type": "code",
   "execution_count": 151,
   "metadata": {
    "collapsed": false,
    "scrolled": false
   },
   "outputs": [
    {
     "data": {
      "text/plain": [
       "AUC                  0.916608\n",
       "HV cols removed      2.000000\n",
       "theta              130.000000\n",
       "Name: 13, dtype: float64"
      ]
     },
     "execution_count": 151,
     "metadata": {},
     "output_type": "execute_result"
    }
   ],
   "source": [
    "auc.loc[auc['AUC'].idxmax()]"
   ]
  },
  {
   "cell_type": "code",
   "execution_count": 152,
   "metadata": {
    "collapsed": false,
    "scrolled": false
   },
   "outputs": [
    {
     "data": {
      "text/html": [
       "<div>\n",
       "<table border=\"1\" class=\"dataframe\">\n",
       "  <thead>\n",
       "    <tr style=\"text-align: right;\">\n",
       "      <th></th>\n",
       "      <th>AUC</th>\n",
       "      <th>LV cols removed</th>\n",
       "      <th>theta</th>\n",
       "    </tr>\n",
       "  </thead>\n",
       "  <tbody>\n",
       "    <tr>\n",
       "      <th>0</th>\n",
       "      <td>0.913759</td>\n",
       "      <td>1.0</td>\n",
       "      <td>80.0</td>\n",
       "    </tr>\n",
       "    <tr>\n",
       "      <th>1</th>\n",
       "      <td>0.912732</td>\n",
       "      <td>1.0</td>\n",
       "      <td>90.0</td>\n",
       "    </tr>\n",
       "    <tr>\n",
       "      <th>2</th>\n",
       "      <td>0.913860</td>\n",
       "      <td>1.0</td>\n",
       "      <td>100.0</td>\n",
       "    </tr>\n",
       "    <tr>\n",
       "      <th>3</th>\n",
       "      <td>0.914793</td>\n",
       "      <td>1.0</td>\n",
       "      <td>110.0</td>\n",
       "    </tr>\n",
       "    <tr>\n",
       "      <th>4</th>\n",
       "      <td>0.915612</td>\n",
       "      <td>1.0</td>\n",
       "      <td>120.0</td>\n",
       "    </tr>\n",
       "    <tr>\n",
       "      <th>5</th>\n",
       "      <td>0.916282</td>\n",
       "      <td>1.0</td>\n",
       "      <td>130.0</td>\n",
       "    </tr>\n",
       "    <tr>\n",
       "      <th>6</th>\n",
       "      <td>0.914259</td>\n",
       "      <td>1.0</td>\n",
       "      <td>140.0</td>\n",
       "    </tr>\n",
       "    <tr>\n",
       "      <th>7</th>\n",
       "      <td>0.912131</td>\n",
       "      <td>1.0</td>\n",
       "      <td>150.0</td>\n",
       "    </tr>\n",
       "    <tr>\n",
       "      <th>8</th>\n",
       "      <td>0.914878</td>\n",
       "      <td>2.0</td>\n",
       "      <td>80.0</td>\n",
       "    </tr>\n",
       "    <tr>\n",
       "      <th>9</th>\n",
       "      <td>0.913675</td>\n",
       "      <td>2.0</td>\n",
       "      <td>90.0</td>\n",
       "    </tr>\n",
       "    <tr>\n",
       "      <th>10</th>\n",
       "      <td>0.914644</td>\n",
       "      <td>2.0</td>\n",
       "      <td>100.0</td>\n",
       "    </tr>\n",
       "    <tr>\n",
       "      <th>11</th>\n",
       "      <td>0.915595</td>\n",
       "      <td>2.0</td>\n",
       "      <td>110.0</td>\n",
       "    </tr>\n",
       "    <tr>\n",
       "      <th>12</th>\n",
       "      <td>0.916291</td>\n",
       "      <td>2.0</td>\n",
       "      <td>120.0</td>\n",
       "    </tr>\n",
       "    <tr>\n",
       "      <th>13</th>\n",
       "      <td>0.916925</td>\n",
       "      <td>2.0</td>\n",
       "      <td>130.0</td>\n",
       "    </tr>\n",
       "    <tr>\n",
       "      <th>14</th>\n",
       "      <td>0.914911</td>\n",
       "      <td>2.0</td>\n",
       "      <td>140.0</td>\n",
       "    </tr>\n",
       "    <tr>\n",
       "      <th>15</th>\n",
       "      <td>0.912704</td>\n",
       "      <td>2.0</td>\n",
       "      <td>150.0</td>\n",
       "    </tr>\n",
       "    <tr>\n",
       "      <th>16</th>\n",
       "      <td>0.915054</td>\n",
       "      <td>3.0</td>\n",
       "      <td>80.0</td>\n",
       "    </tr>\n",
       "    <tr>\n",
       "      <th>17</th>\n",
       "      <td>0.913807</td>\n",
       "      <td>3.0</td>\n",
       "      <td>90.0</td>\n",
       "    </tr>\n",
       "    <tr>\n",
       "      <th>18</th>\n",
       "      <td>0.914793</td>\n",
       "      <td>3.0</td>\n",
       "      <td>100.0</td>\n",
       "    </tr>\n",
       "    <tr>\n",
       "      <th>19</th>\n",
       "      <td>0.915630</td>\n",
       "      <td>3.0</td>\n",
       "      <td>110.0</td>\n",
       "    </tr>\n",
       "    <tr>\n",
       "      <th>20</th>\n",
       "      <td>0.916370</td>\n",
       "      <td>3.0</td>\n",
       "      <td>120.0</td>\n",
       "    </tr>\n",
       "    <tr>\n",
       "      <th>21</th>\n",
       "      <td>0.914444</td>\n",
       "      <td>3.0</td>\n",
       "      <td>130.0</td>\n",
       "    </tr>\n",
       "    <tr>\n",
       "      <th>22</th>\n",
       "      <td>0.914955</td>\n",
       "      <td>3.0</td>\n",
       "      <td>140.0</td>\n",
       "    </tr>\n",
       "    <tr>\n",
       "      <th>23</th>\n",
       "      <td>0.912739</td>\n",
       "      <td>3.0</td>\n",
       "      <td>150.0</td>\n",
       "    </tr>\n",
       "    <tr>\n",
       "      <th>24</th>\n",
       "      <td>0.915380</td>\n",
       "      <td>4.0</td>\n",
       "      <td>80.0</td>\n",
       "    </tr>\n",
       "    <tr>\n",
       "      <th>25</th>\n",
       "      <td>0.914009</td>\n",
       "      <td>4.0</td>\n",
       "      <td>90.0</td>\n",
       "    </tr>\n",
       "    <tr>\n",
       "      <th>26</th>\n",
       "      <td>0.914943</td>\n",
       "      <td>4.0</td>\n",
       "      <td>100.0</td>\n",
       "    </tr>\n",
       "    <tr>\n",
       "      <th>27</th>\n",
       "      <td>0.915868</td>\n",
       "      <td>4.0</td>\n",
       "      <td>110.0</td>\n",
       "    </tr>\n",
       "    <tr>\n",
       "      <th>28</th>\n",
       "      <td>0.916546</td>\n",
       "      <td>4.0</td>\n",
       "      <td>120.0</td>\n",
       "    </tr>\n",
       "    <tr>\n",
       "      <th>29</th>\n",
       "      <td>0.914585</td>\n",
       "      <td>4.0</td>\n",
       "      <td>130.0</td>\n",
       "    </tr>\n",
       "    <tr>\n",
       "      <th>...</th>\n",
       "      <td>...</td>\n",
       "      <td>...</td>\n",
       "      <td>...</td>\n",
       "    </tr>\n",
       "    <tr>\n",
       "      <th>50</th>\n",
       "      <td>0.916079</td>\n",
       "      <td>7.0</td>\n",
       "      <td>100.0</td>\n",
       "    </tr>\n",
       "    <tr>\n",
       "      <th>51</th>\n",
       "      <td>0.916863</td>\n",
       "      <td>7.0</td>\n",
       "      <td>110.0</td>\n",
       "    </tr>\n",
       "    <tr>\n",
       "      <th>52</th>\n",
       "      <td>0.917541</td>\n",
       "      <td>7.0</td>\n",
       "      <td>120.0</td>\n",
       "    </tr>\n",
       "    <tr>\n",
       "      <th>53</th>\n",
       "      <td>0.915440</td>\n",
       "      <td>7.0</td>\n",
       "      <td>130.0</td>\n",
       "    </tr>\n",
       "    <tr>\n",
       "      <th>54</th>\n",
       "      <td>0.913294</td>\n",
       "      <td>7.0</td>\n",
       "      <td>140.0</td>\n",
       "    </tr>\n",
       "    <tr>\n",
       "      <th>55</th>\n",
       "      <td>0.913787</td>\n",
       "      <td>7.0</td>\n",
       "      <td>150.0</td>\n",
       "    </tr>\n",
       "    <tr>\n",
       "      <th>56</th>\n",
       "      <td>0.912868</td>\n",
       "      <td>8.0</td>\n",
       "      <td>80.0</td>\n",
       "    </tr>\n",
       "    <tr>\n",
       "      <th>57</th>\n",
       "      <td>0.913766</td>\n",
       "      <td>8.0</td>\n",
       "      <td>90.0</td>\n",
       "    </tr>\n",
       "    <tr>\n",
       "      <th>58</th>\n",
       "      <td>0.914462</td>\n",
       "      <td>8.0</td>\n",
       "      <td>100.0</td>\n",
       "    </tr>\n",
       "    <tr>\n",
       "      <th>59</th>\n",
       "      <td>0.915105</td>\n",
       "      <td>8.0</td>\n",
       "      <td>110.0</td>\n",
       "    </tr>\n",
       "    <tr>\n",
       "      <th>60</th>\n",
       "      <td>0.915695</td>\n",
       "      <td>8.0</td>\n",
       "      <td>120.0</td>\n",
       "    </tr>\n",
       "    <tr>\n",
       "      <th>61</th>\n",
       "      <td>0.913725</td>\n",
       "      <td>8.0</td>\n",
       "      <td>130.0</td>\n",
       "    </tr>\n",
       "    <tr>\n",
       "      <th>62</th>\n",
       "      <td>0.914104</td>\n",
       "      <td>8.0</td>\n",
       "      <td>140.0</td>\n",
       "    </tr>\n",
       "    <tr>\n",
       "      <th>63</th>\n",
       "      <td>0.912038</td>\n",
       "      <td>8.0</td>\n",
       "      <td>150.0</td>\n",
       "    </tr>\n",
       "    <tr>\n",
       "      <th>64</th>\n",
       "      <td>0.913933</td>\n",
       "      <td>9.0</td>\n",
       "      <td>80.0</td>\n",
       "    </tr>\n",
       "    <tr>\n",
       "      <th>65</th>\n",
       "      <td>0.914788</td>\n",
       "      <td>9.0</td>\n",
       "      <td>90.0</td>\n",
       "    </tr>\n",
       "    <tr>\n",
       "      <th>66</th>\n",
       "      <td>0.915413</td>\n",
       "      <td>9.0</td>\n",
       "      <td>100.0</td>\n",
       "    </tr>\n",
       "    <tr>\n",
       "      <th>67</th>\n",
       "      <td>0.916144</td>\n",
       "      <td>9.0</td>\n",
       "      <td>110.0</td>\n",
       "    </tr>\n",
       "    <tr>\n",
       "      <th>68</th>\n",
       "      <td>0.916761</td>\n",
       "      <td>9.0</td>\n",
       "      <td>120.0</td>\n",
       "    </tr>\n",
       "    <tr>\n",
       "      <th>69</th>\n",
       "      <td>0.914650</td>\n",
       "      <td>9.0</td>\n",
       "      <td>130.0</td>\n",
       "    </tr>\n",
       "    <tr>\n",
       "      <th>70</th>\n",
       "      <td>0.912460</td>\n",
       "      <td>9.0</td>\n",
       "      <td>140.0</td>\n",
       "    </tr>\n",
       "    <tr>\n",
       "      <th>71</th>\n",
       "      <td>0.910306</td>\n",
       "      <td>9.0</td>\n",
       "      <td>150.0</td>\n",
       "    </tr>\n",
       "    <tr>\n",
       "      <th>72</th>\n",
       "      <td>0.914092</td>\n",
       "      <td>10.0</td>\n",
       "      <td>80.0</td>\n",
       "    </tr>\n",
       "    <tr>\n",
       "      <th>73</th>\n",
       "      <td>0.914920</td>\n",
       "      <td>10.0</td>\n",
       "      <td>90.0</td>\n",
       "    </tr>\n",
       "    <tr>\n",
       "      <th>74</th>\n",
       "      <td>0.915545</td>\n",
       "      <td>10.0</td>\n",
       "      <td>100.0</td>\n",
       "    </tr>\n",
       "    <tr>\n",
       "      <th>75</th>\n",
       "      <td>0.916338</td>\n",
       "      <td>10.0</td>\n",
       "      <td>110.0</td>\n",
       "    </tr>\n",
       "    <tr>\n",
       "      <th>76</th>\n",
       "      <td>0.914324</td>\n",
       "      <td>10.0</td>\n",
       "      <td>120.0</td>\n",
       "    </tr>\n",
       "    <tr>\n",
       "      <th>77</th>\n",
       "      <td>0.914738</td>\n",
       "      <td>10.0</td>\n",
       "      <td>130.0</td>\n",
       "    </tr>\n",
       "    <tr>\n",
       "      <th>78</th>\n",
       "      <td>0.912531</td>\n",
       "      <td>10.0</td>\n",
       "      <td>140.0</td>\n",
       "    </tr>\n",
       "    <tr>\n",
       "      <th>79</th>\n",
       "      <td>0.907834</td>\n",
       "      <td>10.0</td>\n",
       "      <td>150.0</td>\n",
       "    </tr>\n",
       "  </tbody>\n",
       "</table>\n",
       "<p>80 rows × 3 columns</p>\n",
       "</div>"
      ],
      "text/plain": [
       "         AUC  LV cols removed  theta\n",
       "0   0.913759              1.0   80.0\n",
       "1   0.912732              1.0   90.0\n",
       "2   0.913860              1.0  100.0\n",
       "3   0.914793              1.0  110.0\n",
       "4   0.915612              1.0  120.0\n",
       "5   0.916282              1.0  130.0\n",
       "6   0.914259              1.0  140.0\n",
       "7   0.912131              1.0  150.0\n",
       "8   0.914878              2.0   80.0\n",
       "9   0.913675              2.0   90.0\n",
       "10  0.914644              2.0  100.0\n",
       "11  0.915595              2.0  110.0\n",
       "12  0.916291              2.0  120.0\n",
       "13  0.916925              2.0  130.0\n",
       "14  0.914911              2.0  140.0\n",
       "15  0.912704              2.0  150.0\n",
       "16  0.915054              3.0   80.0\n",
       "17  0.913807              3.0   90.0\n",
       "18  0.914793              3.0  100.0\n",
       "19  0.915630              3.0  110.0\n",
       "20  0.916370              3.0  120.0\n",
       "21  0.914444              3.0  130.0\n",
       "22  0.914955              3.0  140.0\n",
       "23  0.912739              3.0  150.0\n",
       "24  0.915380              4.0   80.0\n",
       "25  0.914009              4.0   90.0\n",
       "26  0.914943              4.0  100.0\n",
       "27  0.915868              4.0  110.0\n",
       "28  0.916546              4.0  120.0\n",
       "29  0.914585              4.0  130.0\n",
       "..       ...              ...    ...\n",
       "50  0.916079              7.0  100.0\n",
       "51  0.916863              7.0  110.0\n",
       "52  0.917541              7.0  120.0\n",
       "53  0.915440              7.0  130.0\n",
       "54  0.913294              7.0  140.0\n",
       "55  0.913787              7.0  150.0\n",
       "56  0.912868              8.0   80.0\n",
       "57  0.913766              8.0   90.0\n",
       "58  0.914462              8.0  100.0\n",
       "59  0.915105              8.0  110.0\n",
       "60  0.915695              8.0  120.0\n",
       "61  0.913725              8.0  130.0\n",
       "62  0.914104              8.0  140.0\n",
       "63  0.912038              8.0  150.0\n",
       "64  0.913933              9.0   80.0\n",
       "65  0.914788              9.0   90.0\n",
       "66  0.915413              9.0  100.0\n",
       "67  0.916144              9.0  110.0\n",
       "68  0.916761              9.0  120.0\n",
       "69  0.914650              9.0  130.0\n",
       "70  0.912460              9.0  140.0\n",
       "71  0.910306              9.0  150.0\n",
       "72  0.914092             10.0   80.0\n",
       "73  0.914920             10.0   90.0\n",
       "74  0.915545             10.0  100.0\n",
       "75  0.916338             10.0  110.0\n",
       "76  0.914324             10.0  120.0\n",
       "77  0.914738             10.0  130.0\n",
       "78  0.912531             10.0  140.0\n",
       "79  0.907834             10.0  150.0\n",
       "\n",
       "[80 rows x 3 columns]"
      ]
     },
     "execution_count": 152,
     "metadata": {},
     "output_type": "execute_result"
    }
   ],
   "source": [
    "#now low variance first\n",
    "auc = pd.DataFrame({'theta': [], 'AUC': [], 'LV cols removed': []})\n",
    "\n",
    "for i in range(1,11):\n",
    "    dict_row = {}\n",
    "    dict_row['LV cols removed'] = i\n",
    "    \n",
    "    #create the training subsets and renormalize\n",
    "    X_train_subset = X_train.ix[:,:-i]\n",
    "    X_train_subset = (X_train_subset - X_train_subset.mean()) / (X_train_subset.std())\n",
    "    \n",
    "    #recalculate Sn\n",
    "    p = X_train_subset.shape[1] \n",
    "    n = X_train_subset.shape[0]\n",
    "    Sn = 1 / (n - 1) * np.dot(X_train_subset.T, X_train_subset) #mean is zero\n",
    "    Sn_inv = inv(Sn)\n",
    "    \n",
    "    #create the validation subsets and renormalize\n",
    "    X_val_subset = X_val.ix[:,:-i]\n",
    "    X_val_subset = (X_val_subset - X_val_subset.mean()) / (X_val_subset.std())\n",
    "    \n",
    "    #get the distances\n",
    "    val_distances = []\n",
    "    for row in X_val_subset.values:\n",
    "        distance = np.dot(np.dot(row, Sn_inv), row.T)\n",
    "        val_distances.append(distance)\n",
    "    val_distances = np.array(val_distances)\n",
    "\n",
    "    for theta in thetas:\n",
    "        dict_row['theta'] = theta\n",
    "\n",
    "        y_predicted = np.zeros_like(y_val)\n",
    "        y_predicted[np.where(val_distances > theta)] = 1\n",
    "        dict_row['AUC'] = roc_auc_score(y_val, y_predicted)\n",
    "\n",
    "        auc = auc.append(dict_row, ignore_index=True)\n",
    "auc"
   ]
  },
  {
   "cell_type": "code",
   "execution_count": 153,
   "metadata": {
    "collapsed": false,
    "scrolled": true
   },
   "outputs": [
    {
     "data": {
      "text/plain": [
       "AUC                  0.917541\n",
       "LV cols removed      7.000000\n",
       "theta              120.000000\n",
       "Name: 52, dtype: float64"
      ]
     },
     "execution_count": 153,
     "metadata": {},
     "output_type": "execute_result"
    }
   ],
   "source": [
    "auc.loc[auc['AUC'].idxmax()]"
   ]
  },
  {
   "cell_type": "markdown",
   "metadata": {},
   "source": [
    "Removing the low variance actually did the best overall, but only by 0.02%."
   ]
  },
  {
   "cell_type": "code",
   "execution_count": 135,
   "metadata": {
    "collapsed": true
   },
   "outputs": [],
   "source": [
    "theta = 120"
   ]
  },
  {
   "cell_type": "code",
   "execution_count": 168,
   "metadata": {
    "collapsed": false,
    "scrolled": false
   },
   "outputs": [],
   "source": [
    "X_train_subset = X_train.ix[:,:-7]\n",
    "X_train_subset = (X_train_subset - X_train_subset.mean()) / (X_train_subset.std())\n",
    "\n",
    "#recalculate Sn\n",
    "p = X_train_subset.shape[1] \n",
    "n = X_train_subset.shape[0]\n",
    "Sn = 1 / (n - 1) * np.dot(X_train_subset.T, X_train_subset) #mean is zero\n",
    "Sn_inv = inv(Sn)"
   ]
  },
  {
   "cell_type": "code",
   "execution_count": 169,
   "metadata": {
    "collapsed": false
   },
   "outputs": [
    {
     "data": {
      "text/plain": [
       "(142403, 21)"
      ]
     },
     "execution_count": 169,
     "metadata": {},
     "output_type": "execute_result"
    }
   ],
   "source": [
    "X_train_subset.shape #should be (142403, 21)"
   ]
  },
  {
   "cell_type": "code",
   "execution_count": null,
   "metadata": {
    "collapsed": false
   },
   "outputs": [],
   "source": [
    "X_test = X_test.drop('Amount', 1)"
   ]
  },
  {
   "cell_type": "code",
   "execution_count": 160,
   "metadata": {
    "collapsed": false
   },
   "outputs": [],
   "source": [
    "X_test = X_test.ix[:,:-7]"
   ]
  },
  {
   "cell_type": "code",
   "execution_count": 171,
   "metadata": {
    "collapsed": false
   },
   "outputs": [
    {
     "data": {
      "text/plain": [
       "(56961, 21)"
      ]
     },
     "execution_count": 171,
     "metadata": {},
     "output_type": "execute_result"
    }
   ],
   "source": [
    "X_test.shape"
   ]
  },
  {
   "cell_type": "code",
   "execution_count": 172,
   "metadata": {
    "collapsed": true
   },
   "outputs": [],
   "source": [
    "X_test = (X_test - X_test.mean()) / (X_test.std())"
   ]
  },
  {
   "cell_type": "code",
   "execution_count": 173,
   "metadata": {
    "collapsed": false
   },
   "outputs": [],
   "source": [
    "test_distances = []"
   ]
  },
  {
   "cell_type": "code",
   "execution_count": 174,
   "metadata": {
    "collapsed": false
   },
   "outputs": [],
   "source": [
    "for row in X_test.values:\n",
    "    distance = np.dot(np.dot(row, Sn_inv), row.T)\n",
    "    test_distances.append(distance)"
   ]
  },
  {
   "cell_type": "code",
   "execution_count": 175,
   "metadata": {
    "collapsed": true
   },
   "outputs": [],
   "source": [
    "test_distances = np.array(test_distances)"
   ]
  },
  {
   "cell_type": "code",
   "execution_count": 176,
   "metadata": {
    "collapsed": false
   },
   "outputs": [
    {
     "data": {
      "text/plain": [
       "(56961,)"
      ]
     },
     "execution_count": 176,
     "metadata": {},
     "output_type": "execute_result"
    }
   ],
   "source": [
    "test_distances.shape #should be (56961)"
   ]
  },
  {
   "cell_type": "code",
   "execution_count": 177,
   "metadata": {
    "collapsed": false
   },
   "outputs": [],
   "source": [
    "y_predicted = np.zeros_like(y_test)"
   ]
  },
  {
   "cell_type": "code",
   "execution_count": 178,
   "metadata": {
    "collapsed": true
   },
   "outputs": [],
   "source": [
    "y_predicted[np.where(test_distances >= theta)] = 1"
   ]
  },
  {
   "cell_type": "code",
   "execution_count": 179,
   "metadata": {
    "collapsed": false,
    "scrolled": true
   },
   "outputs": [
    {
     "data": {
      "text/plain": [
       "0.91226285472705182"
      ]
     },
     "execution_count": 179,
     "metadata": {},
     "output_type": "execute_result"
    }
   ],
   "source": [
    "auc_final = roc_auc_score(y_test, y_predicted)\n",
    "auc_final"
   ]
  },
  {
   "cell_type": "code",
   "execution_count": 180,
   "metadata": {
    "collapsed": false
   },
   "outputs": [
    {
     "data": {
      "text/plain": [
       "0.16666666666666663"
      ]
     },
     "execution_count": 180,
     "metadata": {},
     "output_type": "execute_result"
    }
   ],
   "source": [
    "fo_final = 1 - recall_score(y_test, y_predicted)\n",
    "fo_final"
   ]
  },
  {
   "cell_type": "markdown",
   "metadata": {},
   "source": [
    "Very little change."
   ]
  },
  {
   "cell_type": "code",
   "execution_count": null,
   "metadata": {
    "collapsed": true
   },
   "outputs": [],
   "source": []
  }
 ],
 "metadata": {
  "anaconda-cloud": {},
  "kernelspec": {
   "display_name": "Python [Root]",
   "language": "python",
   "name": "Python [Root]"
  },
  "language_info": {
   "codemirror_mode": {
    "name": "ipython",
    "version": 3
   },
   "file_extension": ".py",
   "mimetype": "text/x-python",
   "name": "python",
   "nbconvert_exporter": "python",
   "pygments_lexer": "ipython3",
   "version": "3.5.2"
  }
 },
 "nbformat": 4,
 "nbformat_minor": 0
}
